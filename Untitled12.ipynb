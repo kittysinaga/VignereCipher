{
  "nbformat": 4,
  "nbformat_minor": 0,
  "metadata": {
    "colab": {
      "provenance": [],
      "authorship_tag": "ABX9TyNO3aeq2v2I/IN8fK8lKesc",
      "include_colab_link": true
    },
    "kernelspec": {
      "name": "python3",
      "display_name": "Python 3"
    },
    "language_info": {
      "name": "python"
    }
  },
  "cells": [
    {
      "cell_type": "markdown",
      "metadata": {
        "id": "view-in-github",
        "colab_type": "text"
      },
      "source": [
        "<a href=\"https://colab.research.google.com/github/kittysinaga/VignereCipher/blob/main/Untitled12.ipynb\" target=\"_parent\"><img src=\"https://colab.research.google.com/assets/colab-badge.svg\" alt=\"Open In Colab\"/></a>"
      ]
    },
    {
      "cell_type": "code",
      "execution_count": 29,
      "metadata": {
        "colab": {
          "base_uri": "https://localhost:8080/"
        },
        "id": "4uSpM4vQwg8g",
        "outputId": "55d7700f-ab9a-4f9a-f19d-e21ed9c8d4e0"
      },
      "outputs": [
        {
          "output_type": "stream",
          "name": "stdout",
          "text": [
            "['r', 'a', 'n', 'd', 'o', 'm']\n",
            "['r', 'a', 'n', 'd', 'o', 'm', 'r', 'a', 'n', 'd', 'o', 'm', 'r']\n",
            "[17, 0, 13, 3, 14, 12, 17, 0, 13, 3, 14, 12, 17]\n",
            "['p', 'y', 't', 'h', 'o', 'n', ' ', 'i', 's', ' ', 'f', 'u', 'n']\n",
            "{'p': 17, 'y': 0, 't': 13, 'h': 3, 'o': 14, 'n': 17, ' ': 3, 'i': 0, 's': 13, 'f': 14, 'u': 12}\n"
          ]
        }
      ],
      "source": [
        "text=\"python is fun\"\n",
        "keyword=\"random\"\n",
        "dictionary={\"a\":0,\"b\":1,\"c\":2,\"d\":3,\"e\":4,\"f\":5,\"g\":6,\"h\":7,\"i\":8,\"j\":9,\"k\":10,\"l\":11,\"m\":12,\"n\":13,\"o\":14,\"p\":15,\"q\":16,\"r\":17,\"s\":18,\"t\":19,\"u\":20,\"v\":21,\"w\":22,\"x\":23,\"y\":24,\"z\":25}\n",
        "alphabet=[\"a\",\"b\",\"c\",\"d\",\"e\",\"f\",\"g\",\"h\",\"i\",\"j\",\"k\",\"l\",\"m\",\"n\",\"o\",\"p\",\"q\",\"r\",\"s\",\"t\",\"u\",\"v\",\"w\",\"x\",\"y\",\"z\"]\n",
        "counter_t=int(len(text))\n",
        "counter_k=int(len(keyword))\n",
        "list_k=list(keyword)\n",
        "print(list_k)\n",
        "list_k_extended=[]\n",
        "for i in range(0,(counter_t)):\n",
        "  if i<counter_k:\n",
        "    list_k_extended.append(list_k[i])\n",
        "  else:\n",
        "    list_k_extended.append(list_k[i%(counter_k)])\n",
        "print(list_k_extended)\n",
        "\n",
        "shift=[]\n",
        "for char in list_k_extended:\n",
        "  shift.append(dictionary[char])\n",
        "print(shift)\n",
        "\n",
        "list_t=list(text)\n",
        "print(list_t)\n",
        "\n",
        "dictionary_updated={}\n",
        "for i in range(0,counter_t-1):\n",
        "  dictionary_updated[list_t[i]]=shift[i]\n",
        "print(dictionary_updated)\n"
      ]
    },
    {
      "cell_type": "code",
      "source": [],
      "metadata": {
        "id": "LRqZ8LEEx9PP"
      },
      "execution_count": null,
      "outputs": []
    }
  ]
}